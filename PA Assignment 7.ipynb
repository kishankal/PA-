{
 "cells": [
  {
   "cell_type": "markdown",
   "id": "891a53a2",
   "metadata": {},
   "source": [
    "## Q1. What is the purpose of try block in python program?"
   ]
  },
  {
   "cell_type": "markdown",
   "id": "5ab5231d",
   "metadata": {},
   "source": [
    "    try statement is used for exception handling in python. it consists of a block of risky statements which might cause an     exception during runtime. if code within try block raises exception, then the exception will be reverted to the             corresponding except block if multiple except blocks are present, else it willbe reverted to the default except block.     In short try and except in union avoid programs from crashing during runtime due to exceptions."
   ]
  },
  {
   "cell_type": "markdown",
   "id": "5c730e76",
   "metadata": {},
   "source": [
    "## Q2. What are the two most popular try statement variations?"
   ]
  },
  {
   "cell_type": "markdown",
   "id": "fa4ebe2b",
   "metadata": {},
   "source": [
    "    try,except\n",
    "    try,except,else,finally\n",
    "    try,except,finally"
   ]
  },
  {
   "cell_type": "markdown",
   "id": "520f1c60",
   "metadata": {},
   "source": [
    "## Q3. What is the purpose of the raise statement?"
   ]
  },
  {
   "cell_type": "markdown",
   "id": "c0ebf3ae",
   "metadata": {},
   "source": [
    "    raise statement is used to trigger an exception explicitly, if a certain condition is not as per requirement of             programmer. raise statement helps in triggering exception as per programming logic."
   ]
  },
  {
   "cell_type": "markdown",
   "id": "e2018c7f",
   "metadata": {},
   "source": [
    "## Q4. What does the assert statement do, and what other statement is it like?"
   ]
  },
  {
   "cell_type": "markdown",
   "id": "31cf51ec",
   "metadata": {},
   "source": [
    "    There are few assertions that programmer always want to be true to avoid code failure. This type of requirement is         fulfilled by assert statement. This statement takes a boolean condition output of which is True, Further Program           Executes. if output of assert statement is False, it raises an Assertion Error.\n",
    "    Other statement like assert is raise"
   ]
  },
  {
   "cell_type": "markdown",
   "id": "cdd27e8e",
   "metadata": {},
   "source": [
    "## Q5. What is the purpose of the with/as argument, and what other statement is it like?"
   ]
  },
  {
   "cell_type": "markdown",
   "id": "82a2d5eb",
   "metadata": {},
   "source": [
    "with statement in Python is used in exception handling to make the code cleaner and much more readable. "
   ]
  },
  {
   "cell_type": "markdown",
   "id": "a66076e4",
   "metadata": {},
   "source": [
    "## 1. without using with statemnet\n",
    "    file = open('file_path','w')\n",
    "    file.write = 'hello!'\n",
    "    file.close()\n",
    "\n",
    "## 2 using with statement\n",
    "    with open('file_path','w') as file:\n",
    "        file.write('Hello!')\n",
    "    if we use with then :\n",
    "        1. there is no need to call file.close() when using with statement. The with statement itself ensures proper                  acquisition and release of resources.\n",
    "        2. if we don't use with statement then exception handling is poor and may cause many bugs while closing a file and            may cause many changes in files\n",
    "        3. using the with statement makes the code compact and much more readable. "
   ]
  },
  {
   "cell_type": "markdown",
   "id": "40c83097",
   "metadata": {},
   "source": [
    "    as statement is used for elias purpose , it make a copy of a statement.\n",
    "    Eg:\n",
    "    → from math import pi as p \n",
    "      now we can use p instead of using pi"
   ]
  },
  {
   "cell_type": "code",
   "execution_count": null,
   "id": "78d91148",
   "metadata": {},
   "outputs": [],
   "source": []
  }
 ],
 "metadata": {
  "kernelspec": {
   "display_name": "Python 3 (ipykernel)",
   "language": "python",
   "name": "python3"
  },
  "language_info": {
   "codemirror_mode": {
    "name": "ipython",
    "version": 3
   },
   "file_extension": ".py",
   "mimetype": "text/x-python",
   "name": "python",
   "nbconvert_exporter": "python",
   "pygments_lexer": "ipython3",
   "version": "3.9.7"
  }
 },
 "nbformat": 4,
 "nbformat_minor": 5
}
