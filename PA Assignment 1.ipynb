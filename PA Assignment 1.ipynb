{
 "cells": [
  {
   "cell_type": "markdown",
   "id": "cc78b8ce",
   "metadata": {},
   "source": [
    "## Q1. What is the purpose of Python's OOP?\n",
    "   → it's a programming style which is associated with        the concept of Class abd Objects...and various other            concepts, like:\n",
    "         inheritance \n",
    "         polymorphism\n",
    "         Abstraction\n",
    "         Encapsulation etc\n",
    "     \n",
    "  → classs is the blueprint of any entity.which defines the core properties and functions.\n",
    "  \n",
    "  → some of the key functions that why we use oops in python (object oriented programming)\n",
    "  \n",
    "       Data Abstraction( Data hide )\n",
    "       inheritance( Reusability )\n",
    "       Polymorphism.(Object to take many forms)\n",
    "       Encapsulation.(Data hide)"
   ]
  },
  {
   "cell_type": "markdown",
   "id": "e12f67e4",
   "metadata": {},
   "source": [
    "## Q2. Where does an inheritance search look for an attribute?"
   ]
  },
  {
   "cell_type": "markdown",
   "id": "e19648cc",
   "metadata": {},
   "source": [
    "Python searches for an attribute in an upward tree of attributes. it first searches for the attribute in its instance and then looks in the class it is generated from, to all super classes listed in its class header"
   ]
  },
  {
   "cell_type": "markdown",
   "id": "634d40c5",
   "metadata": {},
   "source": [
    "## Q3. How do you distinguish between a class object and an instance object?"
   ]
  },
  {
   "cell_type": "markdown",
   "id": "1433e373",
   "metadata": {},
   "source": [
    "    The differences between a class object and an instance object are:\n",
    "\n",
    "    → Class is a template for creating objects whereas object is an instance of class\n",
    "    → Seperate memory is allocated for each object whenever an object is created. but for a class this doesnot happens.\n",
    "    → A Class is created once. Many objects are created using a class.\n",
    "    → As Classes have no allocated memory. they can't be manipulated. but objects can be manipulated."
   ]
  },
  {
   "cell_type": "markdown",
   "id": "ac5044ab",
   "metadata": {},
   "source": [
    "## Q4. What makes the first argument in a class’s method function special?   "
   ]
  },
  {
   "cell_type": "markdown",
   "id": "c89e9434",
   "metadata": {},
   "source": [
    "    Python Classes usually have three types of methods which are:\n",
    "\n",
    "    Instance Methods (object level methods)\n",
    "    Class Methods (class level methods)\n",
    "    Static Methods (general utility methods)\n",
    "    self is the first argument for instance methods. which refers to the object itself\n",
    "    cls is the first argument for class methods which refers to the class itself"
   ]
  },
  {
   "cell_type": "markdown",
   "id": "5a802981",
   "metadata": {},
   "source": [
    "## Q5. What is the purpose of the init method?\n"
   ]
  },
  {
   "cell_type": "markdown",
   "id": "9055d76a",
   "metadata": {},
   "source": [
    "__init__ is a reseved method in python classes. It serves the role of a constructor in object oriented terminology. This method is called when an object is created from a class and it allows the class to initialize the attributes of the class"
   ]
  },
  {
   "cell_type": "markdown",
   "id": "3d7778f5",
   "metadata": {},
   "source": [
    "## Q6. What is the process for creating a class instance?"
   ]
  },
  {
   "cell_type": "markdown",
   "id": "ddaedae7",
   "metadata": {},
   "source": [
    "To create a class instance, we need to call the class by its name and pass the arguments to the class, which its init method accepts."
   ]
  },
  {
   "cell_type": "markdown",
   "id": "193273f0",
   "metadata": {},
   "source": [
    "## Q7 What is the process for creating a class?"
   ]
  },
  {
   "cell_type": "markdown",
   "id": "c60dcb1d",
   "metadata": {},
   "source": [
    "*class* keyword is used to created a class in python. The syntax to create a class in python is class < classname >:"
   ]
  },
  {
   "cell_type": "markdown",
   "id": "7ed46279",
   "metadata": {},
   "source": [
    "## Q8. How would you define the superclasses of a class?"
   ]
  },
  {
   "cell_type": "markdown",
   "id": "349038f5",
   "metadata": {},
   "source": [
    "Superclass/Parent class is given as a arugment to the child class\n",
    "\n",
    "Example: class Employee(Person): Here child class Employee inherits attributes and methofs from Superclass/Parent Person"
   ]
  },
  {
   "cell_type": "code",
   "execution_count": null,
   "id": "28e86028",
   "metadata": {},
   "outputs": [],
   "source": []
  }
 ],
 "metadata": {
  "kernelspec": {
   "display_name": "Python 3 (ipykernel)",
   "language": "python",
   "name": "python3"
  },
  "language_info": {
   "codemirror_mode": {
    "name": "ipython",
    "version": 3
   },
   "file_extension": ".py",
   "mimetype": "text/x-python",
   "name": "python",
   "nbconvert_exporter": "python",
   "pygments_lexer": "ipython3",
   "version": "3.9.7"
  }
 },
 "nbformat": 4,
 "nbformat_minor": 5
}
