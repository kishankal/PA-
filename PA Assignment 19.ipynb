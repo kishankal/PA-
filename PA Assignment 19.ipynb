{
 "cells": [
  {
   "cell_type": "markdown",
   "id": "0850f4a3",
   "metadata": {},
   "source": [
    "## Q1. Define the relationship between a class and its instances. Is it a one-to-one or a one-to-many partnership, for example?"
   ]
  },
  {
   "cell_type": "markdown",
   "id": "62e32a61",
   "metadata": {},
   "source": [
    "    Relationship between a class and its instances is a one to many partnership."
   ]
  },
  {
   "cell_type": "markdown",
   "id": "f251800d",
   "metadata": {},
   "source": [
    "## Q2. What kind of data is held only in an instance?"
   ]
  },
  {
   "cell_type": "markdown",
   "id": "1570f940",
   "metadata": {},
   "source": [
    "    Instance objects contains the Instance variables which are specific to that specific Instance object."
   ]
  },
  {
   "cell_type": "markdown",
   "id": "8560ed89",
   "metadata": {},
   "source": [
    "## Q3. What kind of knowledge is stored in a class?"
   ]
  },
  {
   "cell_type": "markdown",
   "id": "dd2b6679",
   "metadata": {},
   "source": [
    "    Class creates a user-defined data structure, which holds its own data members and member functions, which can be           accessed and used by creating an instance of that class. A class is like a blueprint for an object."
   ]
  },
  {
   "cell_type": "markdown",
   "id": "25cd28a5",
   "metadata": {},
   "source": [
    "## Q4. What exactly is a method, and how is it different from a regular function?"
   ]
  },
  {
   "cell_type": "markdown",
   "id": "cd8bab12",
   "metadata": {},
   "source": [
    "    The methods with a class can be used to access the insatnce variables of its instance. So,the object's state can be         modified by its method. Function can't access the attributes of an instance of a class or can't modify the state of the     object."
   ]
  },
  {
   "cell_type": "markdown",
   "id": "6e624006",
   "metadata": {},
   "source": [
    "## Q5. Is inheritance supported in Python, and if so, what is the syntax?"
   ]
  },
  {
   "cell_type": "markdown",
   "id": "8290c594",
   "metadata": {},
   "source": [
    "    Yes,Python supports inheritance. The Types of Inheritence Supported by Python are:\n",
    "\n",
    "        1. Simple Inheritence\n",
    "        2. Multiple Inheritence\n",
    "        3. Multilevel lInheritence\n",
    "        4. Hybrid Inheritence\n",
    "        5. Hierracial Inheritence"
   ]
  },
  {
   "cell_type": "code",
   "execution_count": 3,
   "id": "55e2f258",
   "metadata": {},
   "outputs": [],
   "source": [
    "class classroom:  ## classroom is a parent class \n",
    "    def __init__(self, fname, lname):\n",
    "        self.first_name = fname\n",
    "        self.last_name = lname\n",
    "class student(classroom):   ## student is child class\n",
    "    pass"
   ]
  },
  {
   "cell_type": "markdown",
   "id": "12f95e6b",
   "metadata": {},
   "source": [
    "## Q6. How much encapsulation (making instance or class variables private) does Python support?"
   ]
  },
  {
   "cell_type": "markdown",
   "id": "92ce684a",
   "metadata": {},
   "source": [
    "    Encapsulation describes the idea of wrapping data and the methods that work on data within one unit. This puts             restrictions on accessing variables and methods directly and can prevent the accidental modification of data. To           prevent accidental change, an objects variable can only be changed by an objects method."
   ]
  },
  {
   "cell_type": "markdown",
   "id": "e987e4a4",
   "metadata": {},
   "source": [
    "## Q7. How do you distinguish between a class variable and an instance variable?"
   ]
  },
  {
   "cell_type": "markdown",
   "id": "c121e373",
   "metadata": {},
   "source": [
    "    The Class Variable is available to all the instance objects of that class. whereas Instance Variable are accessible         only to the object or Instance of that class.\n",
    "\n",
    "    A single copy of Class Variable is maintained by pvm at the class level. Whereas difference copies of instance Variable     are maintained by pvm at objects/instance level."
   ]
  },
  {
   "cell_type": "markdown",
   "id": "b8b9a3c3",
   "metadata": {},
   "source": [
    "## Q8. When, if ever, can self be included in a class's method definitions?"
   ]
  },
  {
   "cell_type": "markdown",
   "id": "a1351dca",
   "metadata": {},
   "source": [
    "    Yes, self can included in class method definations to access the instance variables inside class methods."
   ]
  },
  {
   "cell_type": "markdown",
   "id": "41af508b",
   "metadata": {},
   "source": [
    "## Q9. What is the difference between the __add__ and the __radd__ methods ?"
   ]
  },
  {
   "cell_type": "markdown",
   "id": "9c28ec0c",
   "metadata": {},
   "source": [
    "    Entering __radd__ Python will first try __add__(), and if that returns Not Implemented Python will check if the right-     hand operand implements __radd__, and if it does, it will call __radd__() rather than raising a TypeError"
   ]
  },
  {
   "cell_type": "markdown",
   "id": "74b46e6c",
   "metadata": {},
   "source": [
    "## Q10. When is it necessary to use a reflection method? When do you not need it, even though you support the operation in question?"
   ]
  },
  {
   "cell_type": "markdown",
   "id": "3a76ca79",
   "metadata": {},
   "source": [
    "    Reflection method we often encounter the requirement that a method in the executing object, or a variable in the           calling object, or a field of the object should be assigned, while the method name or field name can not be determined     when encoding the code, and need to be input in the form of passing strings through parameters."
   ]
  },
  {
   "cell_type": "code",
   "execution_count": null,
   "id": "2df684ae",
   "metadata": {},
   "outputs": [],
   "source": []
  }
 ],
 "metadata": {
  "kernelspec": {
   "display_name": "Python 3 (ipykernel)",
   "language": "python",
   "name": "python3"
  },
  "language_info": {
   "codemirror_mode": {
    "name": "ipython",
    "version": 3
   },
   "file_extension": ".py",
   "mimetype": "text/x-python",
   "name": "python",
   "nbconvert_exporter": "python",
   "pygments_lexer": "ipython3",
   "version": "3.9.7"
  }
 },
 "nbformat": 4,
 "nbformat_minor": 5
}
