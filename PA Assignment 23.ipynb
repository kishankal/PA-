{
 "cells": [
  {
   "cell_type": "markdown",
   "id": "d24bb688",
   "metadata": {},
   "source": [
    "## Q1. If you have any, what are your choices for increasing the comparison between different figures on the same graph?"
   ]
  },
  {
   "cell_type": "markdown",
   "id": "b145f800",
   "metadata": {},
   "source": [
    "    Matplotlib provides a convenient method called subplots for increasing the comparison between different figures on the     same graph. Subplots mean a group of smaller axes (where each axis is a plot) that can exist together within a single       figure."
   ]
  },
  {
   "cell_type": "markdown",
   "id": "d4a6bac3",
   "metadata": {},
   "source": [
    "## Q2. Can you explain the benefit of compound interest over a higher rate of interest that does not compound after reading this chapter?"
   ]
  },
  {
   "cell_type": "markdown",
   "id": "a99dbb69",
   "metadata": {},
   "source": [
    "    Compound interest makes a sum of money grow at a faster rate than simple interest,because in addition to earning           returns on the money you invest, you also earn returns on those returns at the end of every compounding period, which       could be daily, monthly, quarterly or annually."
   ]
  },
  {
   "cell_type": "markdown",
   "id": "b2129c0d",
   "metadata": {},
   "source": [
    "## Q3. What is a histogram, exactly? Name a numpy method for creating such a graph ?"
   ]
  },
  {
   "cell_type": "markdown",
   "id": "b8f3f1ea",
   "metadata": {},
   "source": [
    "    Histogram shows total values of X wrt Y. Which means at any particular position of X, Y value shows the total number of     counts or data below that value of X. numpy.histogram() is the built in function used."
   ]
  },
  {
   "cell_type": "markdown",
   "id": "024a3a4a",
   "metadata": {},
   "source": [
    "## Q4. If necessary, how do you change the aspect ratios between the X and Y axes ?"
   ]
  },
  {
   "cell_type": "markdown",
   "id": "f008708d",
   "metadata": {},
   "source": [
    "    We can use figure(figsize=(10,8)) function inside the matplot.pyplot library which we scale down or up the graph."
   ]
  },
  {
   "cell_type": "markdown",
   "id": "a13318c6",
   "metadata": {},
   "source": [
    "## Q5. Compare and contrast the three types of array multiplication between two numpy arrays: dot product, outer product, and regular multiplication of two numpy arrays ?"
   ]
  },
  {
   "cell_type": "markdown",
   "id": "e5b04369",
   "metadata": {},
   "source": [
    "    1. In regular multiplication values of same index get multiplied.\n",
    "    2. In dot product there is row wise multiplication, row of one array with column of second array and so on.\n",
    "    3. In outer multiplication every element of first array a1 will be multiply by every element of other array a2 such            such the number of columns will be equal to the number of element in another array a2."
   ]
  },
  {
   "cell_type": "markdown",
   "id": "2a4a8d2d",
   "metadata": {},
   "source": [
    "## Q6. Before you buy a home, which numpy function will you use to measure your monthly mortgage payment ?"
   ]
  },
  {
   "cell_type": "markdown",
   "id": "01293bb9",
   "metadata": {},
   "source": [
    "    np.pmt(rate, nper, pv) function we will be using in order to calculate monthly mortgage payment before you purchase a       house.\n",
    "\n",
    "    rate = The periodic interest rate\n",
    "    nper = The number of payment periods\n",
    "    pv = The total value of the mortgage loan"
   ]
  },
  {
   "cell_type": "code",
   "execution_count": 2,
   "id": "d1188700",
   "metadata": {},
   "outputs": [
    {
     "name": "stdout",
     "output_type": "stream",
     "text": [
      "Collecting numpy-financial"
     ]
    },
    {
     "name": "stderr",
     "output_type": "stream",
     "text": [
      "WARNING: Ignoring invalid distribution -illow (c:\\users\\kalar\\anaconda3\\lib\\site-packages)\n",
      "WARNING: Ignoring invalid distribution -illow (c:\\users\\kalar\\anaconda3\\lib\\site-packages)\n",
      "WARNING: Ignoring invalid distribution -illow (c:\\users\\kalar\\anaconda3\\lib\\site-packages)\n",
      "WARNING: Ignoring invalid distribution -illow (c:\\users\\kalar\\anaconda3\\lib\\site-packages)\n",
      "WARNING: Ignoring invalid distribution -illow (c:\\users\\kalar\\anaconda3\\lib\\site-packages)\n",
      "WARNING: Ignoring invalid distribution -illow (c:\\users\\kalar\\anaconda3\\lib\\site-packages)\n",
      "WARNING: Ignoring invalid distribution -illow (c:\\users\\kalar\\anaconda3\\lib\\site-packages)\n",
      "WARNING: There was an error checking the latest version of pip.\n"
     ]
    },
    {
     "name": "stdout",
     "output_type": "stream",
     "text": [
      "\n",
      "  Downloading numpy_financial-1.0.0-py3-none-any.whl (14 kB)\n",
      "Requirement already satisfied: numpy>=1.15 in c:\\users\\kalar\\anaconda3\\lib\\site-packages (from numpy-financial) (1.20.3)\n",
      "Installing collected packages: numpy-financial\n",
      "Successfully installed numpy-financial-1.0.0\n"
     ]
    }
   ],
   "source": [
    "!pip install numpy-financial"
   ]
  },
  {
   "cell_type": "code",
   "execution_count": 8,
   "id": "daaa3ec9",
   "metadata": {},
   "outputs": [
    {
     "data": {
      "text/plain": [
       "-1025000.0"
      ]
     },
     "execution_count": 8,
     "metadata": {},
     "output_type": "execute_result"
    }
   ],
   "source": [
    "import  numpy_financial as np\n",
    "np.pmt(10.25/12,20*12,1200000)"
   ]
  },
  {
   "cell_type": "markdown",
   "id": "001d55ea",
   "metadata": {},
   "source": [
    "## Q7. Can string data be stored in numpy arrays? If so, list at least one restriction that applies to this data ?"
   ]
  },
  {
   "cell_type": "markdown",
   "id": "2d7b8e98",
   "metadata": {},
   "source": [
    "    Yes, an array can store the string. The limitation which imposed on the string data is, whenever we store the data of       string dtype then it should should keep in mind that the string which is having the maximum length is the limit."
   ]
  }
 ],
 "metadata": {
  "kernelspec": {
   "display_name": "Python 3 (ipykernel)",
   "language": "python",
   "name": "python3"
  },
  "language_info": {
   "codemirror_mode": {
    "name": "ipython",
    "version": 3
   },
   "file_extension": ".py",
   "mimetype": "text/x-python",
   "name": "python",
   "nbconvert_exporter": "python",
   "pygments_lexer": "ipython3",
   "version": "3.9.7"
  }
 },
 "nbformat": 4,
 "nbformat_minor": 5
}
