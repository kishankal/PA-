{
 "cells": [
  {
   "cell_type": "markdown",
   "id": "8cc7a638",
   "metadata": {},
   "source": [
    "## Q1. Which two operator overloading methods can you use in your classes to support iteration?"
   ]
  },
  {
   "cell_type": "markdown",
   "id": "18a47906",
   "metadata": {},
   "source": [
    "    __iter__ and __next__ are the operator overloading methods in python that support iteration and are collectively called     iterator protocol.\n",
    "\n",
    "    __iter__ returns the iterator object and is called at the start of loop in our respective class.\n",
    "    __next__ is called at each loop increment, it returns the incremented value. Also Stopiteration is raised when there is     no value to return."
   ]
  },
  {
   "cell_type": "code",
   "execution_count": 6,
   "id": "8ab2ab9e",
   "metadata": {},
   "outputs": [
    {
     "data": {
      "text/plain": [
       "[26, 27, 28, 29, 30, 31]"
      ]
     },
     "execution_count": 6,
     "metadata": {},
     "output_type": "execute_result"
    }
   ],
   "source": [
    "class student:\n",
    "    def __init__(self,math,science):\n",
    "        self.math = math\n",
    "        self.science = science\n",
    "    def __iter__(self):\n",
    "        return self\n",
    "    def __next__(self):\n",
    "        if self.math > self.science:\n",
    "            raise StopIteration\n",
    "        else :\n",
    "            self.math += 1\n",
    "            return self.math\n",
    "        \n",
    "[i for i in student(25,30)]\n",
    "  \n",
    "        "
   ]
  },
  {
   "cell_type": "markdown",
   "id": "85757fe8",
   "metadata": {},
   "source": [
    "## Q2. In what contexts do the two operator overloading methods manage printing?"
   ]
  },
  {
   "cell_type": "markdown",
   "id": "0c4af27d",
   "metadata": {},
   "source": [
    "    __str__ and __repr__ are two operator overloading methods that manage printing.\n",
    "\n",
    "    In Short, the difference between both these operators is the goal of __repr__ is to be unambiguous and __str__ is to be     readable.\n",
    "    Whenever we are printing any object reference internally __str__ method will be called by default.\n",
    "    The main purpose of __str__ is for readability. it prints the informal string representation of an object, one that is     useful for printing the object. it may not be possible to convert result string to original object.\n",
    "    __repr__ is used to print official string representation of an object, so it includes all information and development."
   ]
  },
  {
   "cell_type": "code",
   "execution_count": 10,
   "id": "e06487d6",
   "metadata": {},
   "outputs": [
    {
     "name": "stdout",
     "output_type": "stream",
     "text": [
      "<__main__.Student object at 0x000002677B5399A0>\n",
      "Student math: 95 and science: 85\n",
      "2022-06-05 16:18:42.967927\n",
      "Unable to convert back to original object\n",
      "datetime.datetime(2022, 6, 5, 16, 18, 42, 967927)\n",
      "2022-06-05 16:18:42.967927\n"
     ]
    }
   ],
   "source": [
    "class Student:\n",
    "    def __init__(self,math,science):\n",
    "        self.math = math\n",
    "        self.science = science\n",
    "        \n",
    "s1 = Student(96,85)\n",
    "print(str(s1))\n",
    "\n",
    "class Student:\n",
    "    def __init__(self,math,science):\n",
    "        self.math = math\n",
    "        self.science = science\n",
    "    def __str__(self):\n",
    "        return f'Student math: {self.math} and science: {self.science}'\n",
    "    \n",
    "s1 = Student(95,85)\n",
    "print(str(s1))\n",
    "\n",
    "import datetime as dt\n",
    "today = dt.datetime.now()\n",
    "\n",
    "s = str(today) # converting datetime object to presentable str\n",
    "print(s)\n",
    "try: d = eval(s) # converting str back to datetime object\n",
    "except: print(\"Unable to convert back to original object\")\n",
    "    \n",
    "u = repr(today) # converting datetime object to str\n",
    "print(u)\n",
    "e = eval(u) # converting str back to datetime object\n",
    "print(e)"
   ]
  },
  {
   "cell_type": "markdown",
   "id": "0d8d8bbf",
   "metadata": {},
   "source": [
    "## Q3. In a class, how do you intercept slice operations?"
   ]
  },
  {
   "cell_type": "markdown",
   "id": "70763bdd",
   "metadata": {},
   "source": [
    "    In a class use of slice() in __getitem__ method is used for intercept slice operation. This slice method is provided       with start integer number, stop integer number and step integer number.\n",
    "\n",
    "    Example: __getitem__(slice(start,stop,step))"
   ]
  },
  {
   "cell_type": "markdown",
   "id": "98b0afbb",
   "metadata": {},
   "source": [
    " ## Q4 In a class, how do you capture in-place addition?\n"
   ]
  },
  {
   "cell_type": "markdown",
   "id": "2ad6882d",
   "metadata": {},
   "source": [
    "    a+b is normal addition. Whereas a+=b is inplace addition operation. In this in-place addition a itself will store the       value of addition. In a class __iadd__ method is used for this in-place operation"
   ]
  },
  {
   "cell_type": "code",
   "execution_count": 21,
   "id": "093463dc",
   "metadata": {},
   "outputs": [
    {
     "name": "stdout",
     "output_type": "stream",
     "text": [
      "200\n"
     ]
    }
   ],
   "source": [
    "class student:\n",
    "    def __init__(self,math):\n",
    "        self.math = math\n",
    "        \n",
    "    def __iadd__(self,science):\n",
    "        self.math += science.math\n",
    "        return self.math\n",
    "ob1 = student(100)\n",
    "ob2 = student(100)\n",
    "ob1 += ob2\n",
    "print(ob1)"
   ]
  },
  {
   "cell_type": "markdown",
   "id": "96b9ef55",
   "metadata": {},
   "source": [
    "## Q5. When is it appropriate to use operator overloading?"
   ]
  },
  {
   "cell_type": "markdown",
   "id": "502e1bbf",
   "metadata": {},
   "source": [
    "Operator overloading is used when we want to use an operator other than its normal operation to have different meaning according to the context required in user defined function."
   ]
  },
  {
   "cell_type": "code",
   "execution_count": null,
   "id": "10fc3c20",
   "metadata": {},
   "outputs": [],
   "source": []
  }
 ],
 "metadata": {
  "kernelspec": {
   "display_name": "Python 3 (ipykernel)",
   "language": "python",
   "name": "python3"
  },
  "language_info": {
   "codemirror_mode": {
    "name": "ipython",
    "version": 3
   },
   "file_extension": ".py",
   "mimetype": "text/x-python",
   "name": "python",
   "nbconvert_exporter": "python",
   "pygments_lexer": "ipython3",
   "version": "3.9.7"
  }
 },
 "nbformat": 4,
 "nbformat_minor": 5
}
