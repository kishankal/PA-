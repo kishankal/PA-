{
 "cells": [
  {
   "cell_type": "markdown",
   "id": "7a3b4e05",
   "metadata": {},
   "source": [
    "## Q1. What are the two latest user-defined exception constraints in Python 3.X?"
   ]
  },
  {
   "cell_type": "markdown",
   "id": "b4e07b3c",
   "metadata": {},
   "source": [
    "     raise and assert are the two latest user-defined exception constraints in Python 3.X"
   ]
  },
  {
   "cell_type": "markdown",
   "id": "fe9259b5",
   "metadata": {},
   "source": [
    "## Q2. How are class-based exceptions that have been raised matched to handlers?"
   ]
  },
  {
   "cell_type": "markdown",
   "id": "9c9ea55e",
   "metadata": {},
   "source": [
    "    In python , programmer can define it's own Exception by deriving a class Exception This new exception class like other     exceptions can be raised using the raise statement "
   ]
  },
  {
   "cell_type": "code",
   "execution_count": 9,
   "id": "b86aaeda",
   "metadata": {},
   "outputs": [
    {
     "ename": "Under18",
     "evalue": "You are not above 18 year",
     "output_type": "error",
     "traceback": [
      "\u001b[1;31m---------------------------------------------------------------------------\u001b[0m",
      "\u001b[1;31mUnder18\u001b[0m                                   Traceback (most recent call last)",
      "\u001b[1;32m~\\AppData\\Local\\Temp/ipykernel_11416/3324878900.py\u001b[0m in \u001b[0;36m<module>\u001b[1;34m\u001b[0m\n\u001b[0;32m      3\u001b[0m         \u001b[0mself\u001b[0m\u001b[1;33m.\u001b[0m\u001b[0mn\u001b[0m \u001b[1;33m=\u001b[0m \u001b[0mn\u001b[0m\u001b[1;33m\u001b[0m\u001b[1;33m\u001b[0m\u001b[0m\n\u001b[0;32m      4\u001b[0m \u001b[0mx\u001b[0m \u001b[1;33m=\u001b[0m \u001b[1;36m18\u001b[0m\u001b[1;33m\u001b[0m\u001b[1;33m\u001b[0m\u001b[0m\n\u001b[1;32m----> 5\u001b[1;33m \u001b[1;32mif\u001b[0m \u001b[0mx\u001b[0m \u001b[1;33m<=\u001b[0m \u001b[1;36m18\u001b[0m \u001b[1;33m:\u001b[0m \u001b[1;32mraise\u001b[0m \u001b[0mUnder18\u001b[0m\u001b[1;33m(\u001b[0m\u001b[1;34m'You are not above 18 year'\u001b[0m\u001b[1;33m)\u001b[0m\u001b[1;33m\u001b[0m\u001b[1;33m\u001b[0m\u001b[0m\n\u001b[0m",
      "\u001b[1;31mUnder18\u001b[0m: You are not above 18 year"
     ]
    }
   ],
   "source": [
    "class Under18(Exception):\n",
    "    def __init__(self,n):\n",
    "        self.n = n\n",
    "x = 18\n",
    "if x <= 18 : raise Under18('You are not above 18 year')\n"
   ]
  },
  {
   "cell_type": "markdown",
   "id": "0d3d82ae",
   "metadata": {},
   "source": [
    "## Q3. Describe two methods for attaching context information to exception artefacts ?"
   ]
  },
  {
   "cell_type": "markdown",
   "id": "e6890636",
   "metadata": {},
   "source": [
    "    The process() method of LoggerAdapter is where the contextual information is added to the logging output. its passes       the message and keyword arguments of the logging call, and it passes back modified versions of these to use in the call     to the underlying logger.\n",
    "\n",
    "    Other method that can be used is exception(), Logs a messgae with level ERROR on this logger. The arguments are             interpreted as for debug(). Exception info is added to the logging message."
   ]
  },
  {
   "cell_type": "markdown",
   "id": "2ff78c3f",
   "metadata": {},
   "source": [
    "## Q4. Describe two methods for specifying the text of an exception object's error message ?"
   ]
  },
  {
   "cell_type": "markdown",
   "id": "b624e792",
   "metadata": {},
   "source": [
    "    raise and assert are two methods for specifying the text of an exception object's error message.\n",
    "    raise :\n",
    "        raise statement is used to trigger an exception explicitly, if a certain condition is not as per requirement of             programmer. raise statement helps in triggering exception as per programming logic."
   ]
  },
  {
   "cell_type": "markdown",
   "id": "8e9f0aa0",
   "metadata": {},
   "source": [
    "    assert :\n",
    "        There are few assertions that programmer always want to be true to avoid code failure. This type of requirement is         fulfilled by assert statement. This statement takes a boolean condition output of which is True, Further Program           Executes. if output of assert statement is False, it raises an Assertion Error.\n",
    "    Other statement like assert is raise"
   ]
  },
  {
   "cell_type": "markdown",
   "id": "0d13fb33",
   "metadata": {},
   "source": [
    "## Q5. Why do you no longer use string-based exceptions?"
   ]
  },
  {
   "cell_type": "markdown",
   "id": "96a708d9",
   "metadata": {},
   "source": [
    "String-based Exceptions doesn't inherit from Exceptions. so plain exceptions catch all exceptions and not only system."
   ]
  },
  {
   "cell_type": "code",
   "execution_count": null,
   "id": "c7d11328",
   "metadata": {},
   "outputs": [],
   "source": []
  }
 ],
 "metadata": {
  "kernelspec": {
   "display_name": "Python 3 (ipykernel)",
   "language": "python",
   "name": "python3"
  },
  "language_info": {
   "codemirror_mode": {
    "name": "ipython",
    "version": 3
   },
   "file_extension": ".py",
   "mimetype": "text/x-python",
   "name": "python",
   "nbconvert_exporter": "python",
   "pygments_lexer": "ipython3",
   "version": "3.9.7"
  }
 },
 "nbformat": 4,
 "nbformat_minor": 5
}
