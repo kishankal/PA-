{
 "cells": [
  {
   "cell_type": "markdown",
   "id": "8a05ed5b",
   "metadata": {},
   "source": [
    "## 1. What is the concept of an abstract superclass?"
   ]
  },
  {
   "cell_type": "markdown",
   "id": "fb5726d1",
   "metadata": {},
   "source": [
    "    An abstract class/superclass can be considered as a blueprint for other classes. It allows you to create a set of           methods that must be created within any child classes built from the abstract class. A class which contains one or more     abstract methods is called an abstract class."
   ]
  },
  {
   "cell_type": "code",
   "execution_count": 1,
   "id": "d6e4abe6",
   "metadata": {},
   "outputs": [
    {
     "ename": "TypeError",
     "evalue": "Can't instantiate abstract class Rectangle with abstract method printarea",
     "output_type": "error",
     "traceback": [
      "\u001b[1;31m---------------------------------------------------------------------------\u001b[0m",
      "\u001b[1;31mTypeError\u001b[0m                                 Traceback (most recent call last)",
      "\u001b[1;32m~\\AppData\\Local\\Temp/ipykernel_11688/750037915.py\u001b[0m in \u001b[0;36m<module>\u001b[1;34m\u001b[0m\n\u001b[0;32m     14\u001b[0m     \u001b[1;31m#    return self.length * self.breadth\u001b[0m\u001b[1;33m\u001b[0m\u001b[1;33m\u001b[0m\u001b[0m\n\u001b[0;32m     15\u001b[0m \u001b[1;33m\u001b[0m\u001b[0m\n\u001b[1;32m---> 16\u001b[1;33m \u001b[0mrec\u001b[0m \u001b[1;33m=\u001b[0m \u001b[0mRectangle\u001b[0m\u001b[1;33m(\u001b[0m\u001b[1;33m)\u001b[0m\u001b[1;33m\u001b[0m\u001b[1;33m\u001b[0m\u001b[0m\n\u001b[0m",
      "\u001b[1;31mTypeError\u001b[0m: Can't instantiate abstract class Rectangle with abstract method printarea"
     ]
    }
   ],
   "source": [
    "## Example : withod using printarea() function in subclass\n",
    "## it will show error because we are not using printarea() method in subclass\n",
    "\n",
    "from abc import ABCMeta,abstractmethod\n",
    "class shape(metaclass = ABCMeta): # Abstract class\n",
    "    \n",
    "    @abstractmethod\n",
    "    def printarea(self):\n",
    "        return 0\n",
    "    \n",
    "class Rectangle(shape):\n",
    "    \n",
    "    def __int__(self):\n",
    "        self.length = 4\n",
    "        self.breadth = 5\n",
    "   # def printarea(self):\n",
    "    #    return self.length * self.breadth\n",
    "        \n",
    "rec = Rectangle()"
   ]
  },
  {
   "cell_type": "code",
   "execution_count": 6,
   "id": "4f7c35eb",
   "metadata": {},
   "outputs": [
    {
     "data": {
      "text/plain": [
       "20"
      ]
     },
     "execution_count": 6,
     "metadata": {},
     "output_type": "execute_result"
    }
   ],
   "source": [
    "## Example : using printarea() function in subclass\n",
    "## it will not show error because we are using printarea() method in subclass\n",
    "\n",
    "from abc import ABCMeta,abstractmethod\n",
    "class shape(metaclass = ABCMeta): # Abstract class\n",
    "    @abstractmethod\n",
    "    def printarea(self):\n",
    "        return 0\n",
    "class Rectangle(shape):\n",
    "    \n",
    "    def __init__(self):\n",
    "        self.length = 4\n",
    "        self.breadth = 5\n",
    "    def printarea(self):\n",
    "        return self.length * self.breadth\n",
    "        \n",
    "rec = Rectangle()\n",
    "rec.printarea()"
   ]
  },
  {
   "cell_type": "markdown",
   "id": "1d79e847",
   "metadata": {},
   "source": [
    "## 2. What happens when a class statement's top level contains a basic assignment statement?"
   ]
  },
  {
   "cell_type": "markdown",
   "id": "248bdeb7",
   "metadata": {},
   "source": [
    "    When a Class statement's top level contains a basic assignment statement, its usually treated as a class attribute or       class level variable.\n",
    "\n",
    "    where as assignment statements inside methods are treated as instance attributes or local attributes.\n",
    "\n",
    "    When an instance of a class is created a single copy of class attributes is maintained and shared to all instances of       class. where as each instance object maintains its own copy of instance variables."
   ]
  },
  {
   "cell_type": "code",
   "execution_count": 4,
   "id": "22b00b2b",
   "metadata": {},
   "outputs": [],
   "source": [
    "class bike:\n",
    "    activa = 'petrol' ## class attributes\n",
    "    def __init__(self,price,type_):\n",
    "        self.price = price ## instance attributes\n",
    "        self.type_ = type_\n",
    "    "
   ]
  },
  {
   "cell_type": "markdown",
   "id": "e63a1f0e",
   "metadata": {},
   "source": [
    "## 3. Why does a class need to manually call a superclass's init method?"
   ]
  },
  {
   "cell_type": "markdown",
   "id": "51aae2f2",
   "metadata": {},
   "source": [
    "     if a child class has __init__ method, then it will not inherit the __init__ method of the parent class. in other words      the __init__ method of the child class overrides the __init__ method of the parent class. so we have to manually call      a parent superclass's __init__ using super() method"
   ]
  },
  {
   "cell_type": "code",
   "execution_count": 9,
   "id": "713351ac",
   "metadata": {},
   "outputs": [
    {
     "data": {
      "text/plain": [
       "{'name': 'kishan', 'age': 22, 'standard': 'BE_pass'}"
      ]
     },
     "execution_count": 9,
     "metadata": {},
     "output_type": "execute_result"
    }
   ],
   "source": [
    "class student:\n",
    "    \n",
    "    def __init__(self,name,age):\n",
    "        self.name = name\n",
    "        self.age = age\n",
    "        \n",
    "class student_info(student):\n",
    "    \n",
    "    def __init__(self,name,age,standard):\n",
    "        super().__init__(name,age)\n",
    "        self.standard = standard\n",
    "\n",
    "co = student_info('kishan',22,'BE_pass')\n",
    "co.__dict__\n",
    "        "
   ]
  },
  {
   "cell_type": "markdown",
   "id": "8ea837fa",
   "metadata": {},
   "source": [
    "## 4. How can you augment, instead of completely replacing, an inherited method?"
   ]
  },
  {
   "cell_type": "markdown",
   "id": "09d47981",
   "metadata": {},
   "source": [
    "super() method can be used to augment, instead of completely replacing, an inherited method."
   ]
  },
  {
   "cell_type": "code",
   "execution_count": 10,
   "id": "328b8d27",
   "metadata": {},
   "outputs": [
    {
     "data": {
      "text/plain": [
       "{'name': 'kishan', 'age': 22, 'standard': 'BE_pass'}"
      ]
     },
     "execution_count": 10,
     "metadata": {},
     "output_type": "execute_result"
    }
   ],
   "source": [
    "class student:\n",
    "    \n",
    "    def __init__(self,name,age):\n",
    "        self.name = name\n",
    "        self.age = age\n",
    "        \n",
    "class student_info(student):\n",
    "    \n",
    "    def __init__(self,name,age,standard):\n",
    "        super().__init__(name,age)\n",
    "        self.standard = standard\n",
    "\n",
    "co = student_info('kishan',22,'BE_pass')\n",
    "co.__dict__\n",
    "        "
   ]
  },
  {
   "cell_type": "markdown",
   "id": "df0fc439",
   "metadata": {},
   "source": [
    " ## 5. How is the local scope of a class different from that of a function?"
   ]
  },
  {
   "cell_type": "markdown",
   "id": "be29c590",
   "metadata": {},
   "source": [
    "    A Variable which is defined inside a function is local to that function. it is accesible from the point at which it is     defined until the end of the function, and exists for as long as the function is existing.\n",
    "\n",
    "    Similary a variable inside of a class also has a local variable scope. Variables which are defined in the class body       (but outside all methods) are called as class level variables or class attributes. they can be referenced by there bare     names within the same scope, but they can also be accessed from outside this scope if we use the attribute access           operator (.). on a class or an instance of the class."
   ]
  },
  {
   "cell_type": "code",
   "execution_count": null,
   "id": "678c471c",
   "metadata": {},
   "outputs": [],
   "source": []
  }
 ],
 "metadata": {
  "kernelspec": {
   "display_name": "Python 3 (ipykernel)",
   "language": "python",
   "name": "python3"
  },
  "language_info": {
   "codemirror_mode": {
    "name": "ipython",
    "version": 3
   },
   "file_extension": ".py",
   "mimetype": "text/x-python",
   "name": "python",
   "nbconvert_exporter": "python",
   "pygments_lexer": "ipython3",
   "version": "3.9.7"
  }
 },
 "nbformat": 4,
 "nbformat_minor": 5
}
