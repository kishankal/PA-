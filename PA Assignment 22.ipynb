{
 "cells": [
  {
   "cell_type": "markdown",
   "id": "4513d7d4",
   "metadata": {},
   "source": [
    "## Q1. What are the benefits of the built-in array package, if any?"
   ]
  },
  {
   "cell_type": "markdown",
   "id": "adeb2487",
   "metadata": {},
   "source": [
    "    Arrays represent multiple data items of the same type using a single name. In arrays, the elements can be accessed         randomly by using the index number. Arrays allocate memory in contiguous memory locations for all its elements. Hence       there is no chance of extra memory being allocated in case of arrays. This avoids memory overflow or shortage of memory     in arrays."
   ]
  },
  {
   "cell_type": "markdown",
   "id": "7011e494",
   "metadata": {},
   "source": [
    "## Q2. What are some of the array package's limitations ?"
   ]
  },
  {
   "cell_type": "markdown",
   "id": "bb3ae344",
   "metadata": {},
   "source": [
    "    1. Only consists of elements belonging to the same data type\n",
    "    2. Need to explicitly import a module for declaration\n",
    "    3. Insertion and deletion are quite difficult in an array as the elements are stored in consecutive memory locations          and the shifting operation is costly.\n",
    "    4. A loop has to be formed to print or access the components of array\n",
    "    5. The number of elements to be stored in an array should be known in advance.\n",
    "    6. An array is a static structure (which means the array is of fixed size). Once declared the size of the array cannot        be modified. The memory which is allocated to it cannot be increased or decreased.\n"
   ]
  },
  {
   "cell_type": "markdown",
   "id": "76003290",
   "metadata": {},
   "source": [
    "## Q3. Describe the main differences between the array and numpy packages ?"
   ]
  },
  {
   "cell_type": "markdown",
   "id": "9ed6fb72",
   "metadata": {},
   "source": [
    "    The array package doesn't provide any help with numerical calculation with the items insdie it in number form while         NumPy give you a wide variety of numerical operations.\n",
    "    \n",
    "    The array package doesn't provide any help with numerical calculation with the items insdie it in number form while         NumPy give you a wide variety of numerical operations.\n",
    "\n",
    "    An array is a single dimensional entity which hold the numerical data, while numpy can have more than 1 dimension.\n",
    "\n",
    "    In case of array, item can be accessed by its index position and it is easy task while in numpy item is accessed by its     column and row index, which makes it slightly time taking. Same goes with appending operation."
   ]
  },
  {
   "cell_type": "markdown",
   "id": "4eb68edf",
   "metadata": {},
   "source": [
    "## Q4. Explain the distinctions between the empty, ones, and zeros functions ?"
   ]
  },
  {
   "cell_type": "code",
   "execution_count": 5,
   "id": "af91dc6a",
   "metadata": {},
   "outputs": [
    {
     "data": {
      "text/plain": [
       "array([[[0., 0., 0., 0.],\n",
       "        [0., 0., 0., 0.]],\n",
       "\n",
       "       [[0., 0., 0., 0.],\n",
       "        [0., 0., 0., 0.]]])"
      ]
     },
     "execution_count": 5,
     "metadata": {},
     "output_type": "execute_result"
    }
   ],
   "source": [
    "import numpy as np\n",
    "l = [2,2,4]  ## it will convert all element inside a table to zero\n",
    "np.zeros(l)  "
   ]
  },
  {
   "cell_type": "code",
   "execution_count": 7,
   "id": "243047cc",
   "metadata": {},
   "outputs": [
    {
     "data": {
      "text/plain": [
       "array([[[1., 1., 1., 1.],\n",
       "        [1., 1., 1., 1.]],\n",
       "\n",
       "       [[1., 1., 1., 1.],\n",
       "        [1., 1., 1., 1.]]])"
      ]
     },
     "execution_count": 7,
     "metadata": {},
     "output_type": "execute_result"
    }
   ],
   "source": [
    "np.ones(l) ## it will convert all element inside a table to one"
   ]
  },
  {
   "cell_type": "code",
   "execution_count": 10,
   "id": "243fb951",
   "metadata": {},
   "outputs": [
    {
     "name": "stdout",
     "output_type": "stream",
     "text": [
      "[[0. 0. 0.]\n",
      " [0. 0. 0.]]\n"
     ]
    }
   ],
   "source": [
    "print(np.empty((2, 3)))"
   ]
  },
  {
   "cell_type": "markdown",
   "id": "cafa48e5",
   "metadata": {},
   "source": [
    "## Q5. In the fromfunction function, which is used to construct new arrays, what is the role of the callable argument ?"
   ]
  },
  {
   "cell_type": "markdown",
   "id": "7e3552d8",
   "metadata": {},
   "source": [
    "    Syntax : numpy.fromfunction(function, shape,  dtype)\n",
    "    function : [callable] The function is called with N parameters, where N is the rank of shape. Each parameter represents     the coordinates of the array varying along a specific axis.\n",
    "\n",
    "    shape : [(N, ) tuple of ints] Shape of the output array, which also determines the shape of the coordinate arrays           passed to function.\n",
    "\n",
    "    dtype : [data-type, optional] Data-type of the coordinate arrays passed to function."
   ]
  },
  {
   "cell_type": "code",
   "execution_count": 11,
   "id": "2b094d33",
   "metadata": {},
   "outputs": [
    {
     "name": "stdout",
     "output_type": "stream",
     "text": [
      "[[0. 1. 2. 3.]\n",
      " [1. 2. 3. 4.]\n",
      " [2. 3. 4. 5.]\n",
      " [3. 4. 5. 6.]]\n"
     ]
    }
   ],
   "source": [
    "import numpy as np\n",
    "a1 = np.fromfunction(lambda i,j:i+j,(4,4),dtype = float)\n",
    "print(a1)"
   ]
  },
  {
   "cell_type": "markdown",
   "id": "1de1b668",
   "metadata": {},
   "source": [
    "## Q6. What happens when a numpy array is combined with a single-value operand (a scalar, such as an int or a floating-point value) through addition, as in the expression A + n ?"
   ]
  },
  {
   "cell_type": "markdown",
   "id": "fd757c2f",
   "metadata": {},
   "source": [
    "    If any scaler value such as integer is added to the numpy array then all the elements inside the array will add that       value in it."
   ]
  },
  {
   "cell_type": "markdown",
   "id": "61305f58",
   "metadata": {},
   "source": [
    "## Q7. Can array-to-scalar operations use combined operation-assign operators (such as += or *=)? What is the outcome ?"
   ]
  },
  {
   "cell_type": "code",
   "execution_count": 13,
   "id": "36bd0f23",
   "metadata": {},
   "outputs": [
    {
     "name": "stdout",
     "output_type": "stream",
     "text": [
      "[[0. 1. 2. 3.]\n",
      " [1. 2. 3. 4.]\n",
      " [2. 3. 4. 5.]\n",
      " [3. 4. 5. 6.]]\n",
      "[[3. 4. 5. 6.]\n",
      " [4. 5. 6. 7.]\n",
      " [5. 6. 7. 8.]\n",
      " [6. 7. 8. 9.]]\n",
      "[[ 9. 12. 15. 18.]\n",
      " [12. 15. 18. 21.]\n",
      " [15. 18. 21. 24.]\n",
      " [18. 21. 24. 27.]]\n"
     ]
    },
    {
     "data": {
      "text/plain": [
       "' It will carry out provided operation on all elements of array.'"
      ]
     },
     "execution_count": 13,
     "metadata": {},
     "output_type": "execute_result"
    }
   ],
   "source": [
    "import numpy as np\n",
    "a1 = np.fromfunction(lambda i,j:i+j,(4,4),dtype = float)\n",
    "\n",
    "print(a1)\n",
    "\n",
    "a1 += 3\n",
    "print(a1)\n",
    "\n",
    "a1 *= 3\n",
    "print(a1)\n",
    "\"\"\" It will carry out provided operation on all elements of array.\"\"\"\n"
   ]
  },
  {
   "cell_type": "markdown",
   "id": "7b73cf71",
   "metadata": {},
   "source": [
    "## Q8. Does a numpy array contain fixed-length strings? What happens if you allocate a longer string to one of these arrays ?"
   ]
  },
  {
   "cell_type": "markdown",
   "id": "77412145",
   "metadata": {},
   "source": [
    "    Yes, it is possible that we can include a string of fixed length in numpy array. The dtype of any numpy array               containing string values is the maximum length of any string present in the array.Once set, it will only be able to         store new string having length not more than the maximum length at the time of the creation. If we try to reassign some     another string value having length greater than the maximum length of the existing elements, it simply discards all the     values beyond the maximum length accept upto those values which are under the limit."
   ]
  },
  {
   "cell_type": "markdown",
   "id": "5bcf4851",
   "metadata": {},
   "source": [
    "## Q9. What happens when you combine two numpy arrays using an operation like addition (+) or multiplication (*)? What are the conditions for combining two numpy arrays ?"
   ]
  },
  {
   "cell_type": "markdown",
   "id": "3a5f3aa0",
   "metadata": {},
   "source": [
    "    It will simply add or multiply element to element at same position."
   ]
  },
  {
   "cell_type": "markdown",
   "id": "2930e665",
   "metadata": {},
   "source": [
    "## Q10. What is the best way to use a Boolean array to mask another array ?"
   ]
  },
  {
   "cell_type": "markdown",
   "id": "650d76a7",
   "metadata": {},
   "source": [
    "    The best way to use a Boolean array to mask another array is by Using masked_where of numpy package"
   ]
  },
  {
   "cell_type": "markdown",
   "id": "222404fa",
   "metadata": {},
   "source": [
    "## Q11. What are three different ways to get the standard deviation of a wide collection of data using both standard Python and its packages? Sort the three of them by how quickly they execute ?"
   ]
  },
  {
   "cell_type": "markdown",
   "id": "6fed1716",
   "metadata": {},
   "source": [
    "    np.std and math package can be used individually."
   ]
  },
  {
   "cell_type": "markdown",
   "id": "9423366c",
   "metadata": {},
   "source": [
    "## 12. What is the dimensionality of a Boolean mask-generated array ?"
   ]
  },
  {
   "cell_type": "markdown",
   "id": "b772537f",
   "metadata": {},
   "source": [
    "    It will have same dimensionality as input array."
   ]
  }
 ],
 "metadata": {
  "kernelspec": {
   "display_name": "Python 3 (ipykernel)",
   "language": "python",
   "name": "python3"
  },
  "language_info": {
   "codemirror_mode": {
    "name": "ipython",
    "version": 3
   },
   "file_extension": ".py",
   "mimetype": "text/x-python",
   "name": "python",
   "nbconvert_exporter": "python",
   "pygments_lexer": "ipython3",
   "version": "3.9.7"
  }
 },
 "nbformat": 4,
 "nbformat_minor": 5
}
