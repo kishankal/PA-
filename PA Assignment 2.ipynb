{
 "cells": [
  {
   "cell_type": "markdown",
   "id": "3a6270b4",
   "metadata": {},
   "source": [
    "## Q1. What is the relationship between classes and modules?"
   ]
  },
  {
   "cell_type": "markdown",
   "id": "223a2bb5",
   "metadata": {},
   "source": [
    "    A Python class is like an outline/blueprint/mold for creating a new object. An object is anything that you wish to         manipulate or change while working through the code. Every time a class object is instantiated, which is when we           declare a variable, a new object is initiated from scratch\n",
    "\n",
    "    Whereas in Python, Modules are simply files with the . py extension containing Python code that can be imported inside     another Python Program. In simple terms, we can consider a module to be the same as a code library or a file that           contains a set of functions/Classes that you want to include in your application."
   ]
  },
  {
   "cell_type": "markdown",
   "id": "3672f33f",
   "metadata": {},
   "source": [
    "## Q2. How do you make instances and classes?"
   ]
  },
  {
   "cell_type": "markdown",
   "id": "388e9426",
   "metadata": {},
   "source": [
    "    For creating a class instance. we call a class by its name and pass the arguments which its __init__ method accepts.\n",
    "\n",
    "    Example: kishan = employee('Male',20000), Here kishan is an instance of class employee with attriubutes 'Male' and                  20000.\n",
    "\n",
    "    Whereas for creating a class, we use the Class keyword. Class keyword is followed by classname and semicolon.\n",
    "\n",
    "    Example: Here Employee is a class created with class keyword with arguments gender and salary.\n",
    "\n",
    "    class Employee:\n",
    "        def __init__(self, gender,salary):\n",
    "            self.gender = gender\n",
    "            self.salary = salary"
   ]
  },
  {
   "cell_type": "markdown",
   "id": "2775690d",
   "metadata": {},
   "source": [
    "## Q3. Where and how should be class attributes created?"
   ]
  },
  {
   "cell_type": "markdown",
   "id": "6b8cf0e9",
   "metadata": {},
   "source": [
    "    Class attributes or Class level Attributes belong to the class itself. these attributes will be shared by all the           instances of the class. Hence these attributes are usually created/defined in the top of class definiation outside all     methods.\n",
    "\n",
    "    Example: In the below code we are defining a class attribute called Total_cars which will be shared by all the             instances of the class Car\n",
    "\n",
    "    class Car:\n",
    "        Total_cars = 4; # this is a class attribute\n",
    "        def __init__(self,color,price,engine):\n",
    "            self.color = color # All this are instance attributes\n",
    "            self.price = price\n",
    "            self.engine = engine"
   ]
  },
  {
   "cell_type": "markdown",
   "id": "f3a2d3bd",
   "metadata": {},
   "source": [
    "## Q4. Where and how are instance attributes created?"
   ]
  },
  {
   "cell_type": "markdown",
   "id": "33a2f512",
   "metadata": {},
   "source": [
    "    Instances attributes are passed to the class when an object of the class is created. Unlike class attributes, instance     attributes are not shared by all objects of the classs. instead each object maintains its own copy of instance             attributes at object level. whereas incase of class attributes all instances of class refer to a single copy. Usually       instance attributes are defined within the __init__ method of class\n",
    "\n",
    "    Example: In the below sample code we are creating a class Car with instance varaibles color, price, engine, which will     be provided when an instance of class Car is created.\n",
    "\n",
    "    class Car:\n",
    "        def __init__(self,color,price,engine):\n",
    "            self.color = color # All this are instance attributes\n",
    "            self.price = price\n",
    "            self.engine = engine\n",
    "\n",
    "    xyz_ev = Car('Indigo Blue', 9878758, 'electric')\n",
    "    doni = Car('Pearl White',2100000, 'petrol')\n",
    "\n",
    "    xyz_ev, doni are both the instances of class Car with different instance variables."
   ]
  },
  {
   "cell_type": "markdown",
   "id": "48e870d3",
   "metadata": {},
   "source": [
    "## Q5. What does the term \"self\" in a Python class mean?"
   ]
  },
  {
   "cell_type": "markdown",
   "id": "995f17a4",
   "metadata": {},
   "source": [
    "    self represents the instance of the class (it represents the object itself). By using the “self” keyword we can access     the attributes and methods of the class with in the class in python. It binds the attributes with the given arguments."
   ]
  },
  {
   "cell_type": "code",
   "execution_count": 3,
   "id": "ba72e28e",
   "metadata": {},
   "outputs": [
    {
     "name": "stdout",
     "output_type": "stream",
     "text": [
      "{'color': 'Indigo Blue', 'price': 1400000, 'engine': 'electric'}\n",
      "{'color': 'Pearl White', 'price': 2100000, 'engine': 'petrol'}\n"
     ]
    }
   ],
   "source": [
    "class Car:\n",
    "    def __init__(self,color,price,engine):\n",
    "        self.color = color # All this are instance attributes\n",
    "        self.price = price\n",
    "        self.engine = engine\n",
    "\n",
    "nexon_ev = Car('Indigo Blue', 1400000, 'electric')\n",
    "safari = Car('Pearl White',2100000, 'petrol')\n",
    "\n",
    "print(nexon_ev.__dict__)\n",
    "print(safari.__dict__)"
   ]
  },
  {
   "cell_type": "markdown",
   "id": "86382dff",
   "metadata": {},
   "source": [
    "## Q6. How does a Python class handle operator overloading?"
   ]
  },
  {
   "cell_type": "markdown",
   "id": "5cf76038",
   "metadata": {},
   "source": [
    "    Python Classes handle operator overloading by using special methods called Magic methods. these special methods usually     begin and end with __ (double underscore)\n",
    "    Example: Magic methods for basic arithmetic operators are:\n",
    "\n",
    "    for + it's __add__()\n",
    "    for - it's __sub__()\n",
    "    for * it's __mul__()\n",
    "    for / it's __div__()\n",
    "    \n",
    "    Magic methods are most frequently used to define overloaded behaviours of predefined operators in Python. For instance,     arithmetic operators by default operate upon numeric operands. This means that numeric objects must be used along with     operators like +, -, *, /, etc. The + operator is also defined as a concatenation operator in string, list and tuple       classes. We can say that the + operator is overloaded."
   ]
  },
  {
   "cell_type": "code",
   "execution_count": 6,
   "id": "0de5fca0",
   "metadata": {},
   "outputs": [
    {
     "name": "stdout",
     "output_type": "stream",
     "text": [
      "['__abs__', '__add__', '__and__', '__bool__', '__ceil__', '__class__', '__delattr__', '__dir__', '__divmod__', '__doc__', '__eq__', '__float__', '__floor__', '__floordiv__', '__format__', '__ge__', '__getattribute__', '__getnewargs__', '__gt__', '__hash__', '__index__', '__init__', '__init_subclass__', '__int__', '__invert__', '__le__', '__lshift__', '__lt__', '__mod__', '__mul__', '__ne__', '__neg__', '__new__', '__or__', '__pos__', '__pow__', '__radd__', '__rand__', '__rdivmod__', '__reduce__', '__reduce_ex__', '__repr__', '__rfloordiv__', '__rlshift__', '__rmod__', '__rmul__', '__ror__', '__round__', '__rpow__', '__rrshift__', '__rshift__', '__rsub__', '__rtruediv__', '__rxor__', '__setattr__', '__sizeof__', '__str__', '__sub__', '__subclasshook__', '__truediv__', '__trunc__', '__xor__', 'as_integer_ratio', 'bit_length', 'conjugate', 'denominator', 'from_bytes', 'imag', 'numerator', 'real', 'to_bytes'] "
     ]
    }
   ],
   "source": [
    "print(dir(int),end = \" \") ## all are magic methods "
   ]
  },
  {
   "cell_type": "markdown",
   "id": "718f3190",
   "metadata": {},
   "source": [
    "## Q7. When do you consider allowing operator overloading of your classes?"
   ]
  },
  {
   "cell_type": "markdown",
   "id": "f1946c41",
   "metadata": {},
   "source": [
    "When we want to have different meaning for the same operator accroding to the context we use operator overloading"
   ]
  },
  {
   "cell_type": "markdown",
   "id": "a7e66dec",
   "metadata": {},
   "source": [
    "## Q8. What is the most popular form of operator overloading?"
   ]
  },
  {
   "cell_type": "markdown",
   "id": "3ef0e55e",
   "metadata": {},
   "source": [
    "The most popular form of operator overloading in python is by special methods called Magic methods. Which usually beign and end with double underscore __<method name>__."
   ]
  },
  {
   "cell_type": "code",
   "execution_count": 12,
   "id": "64f47e13",
   "metadata": {},
   "outputs": [
    {
     "name": "stdout",
     "output_type": "stream",
     "text": [
      "Sum -> 3\n",
      "String Concatenation -> kio kumari\n"
     ]
    }
   ],
   "source": [
    "class kio:\n",
    "    def __init__(self,x):\n",
    "        self.x = x\n",
    "    def __add__(self,y):\n",
    "        return self.x + y.x\n",
    "obj1 = kio(1)\n",
    "obj2 = kio(2)\n",
    "obj3 = kio('kio')\n",
    "obj4 = kio(' kumari')\n",
    "print(f'Sum -> {obj1+obj2}')\n",
    "print(f'String Concatenation -> {obj3+obj4}')"
   ]
  },
  {
   "cell_type": "markdown",
   "id": "abe5823f",
   "metadata": {},
   "source": [
    "## Q9. What are the two most important concepts to grasp in order to comprehend Python OOP code?"
   ]
  },
  {
   "cell_type": "markdown",
   "id": "ea3f6953",
   "metadata": {},
   "source": [
    "    Classes and objects are the two concepts to comprehend python OOP code as more formally objects are entities that           represent instances of general abstract concept called class\n",
    "\n",
    "    Along with classes and objects the important concepts to grasp are:\n",
    "\n",
    "    Inheritence\n",
    "    Abstraction\n",
    "    Polymorphism\n",
    "    Encapsulation"
   ]
  },
  {
   "cell_type": "code",
   "execution_count": null,
   "id": "0c532236",
   "metadata": {},
   "outputs": [],
   "source": []
  }
 ],
 "metadata": {
  "kernelspec": {
   "display_name": "Python 3 (ipykernel)",
   "language": "python",
   "name": "python3"
  },
  "language_info": {
   "codemirror_mode": {
    "name": "ipython",
    "version": 3
   },
   "file_extension": ".py",
   "mimetype": "text/x-python",
   "name": "python",
   "nbconvert_exporter": "python",
   "pygments_lexer": "ipython3",
   "version": "3.9.7"
  }
 },
 "nbformat": 4,
 "nbformat_minor": 5
}
