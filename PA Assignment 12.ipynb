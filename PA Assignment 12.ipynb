{
 "cells": [
  {
   "cell_type": "markdown",
   "id": "47f3923f",
   "metadata": {},
   "source": [
    "## Q1. Does assigning a value to a string's indexed character violate Python's string immutability?"
   ]
  },
  {
   "cell_type": "markdown",
   "id": "3b46b72f",
   "metadata": {},
   "source": [
    "    String’s indexed character cannot to be assigned a New value , as Strings are immutable.\n",
    "    Example :\n",
    "    name = 'kishan'\n",
    "    name[0] = 'o' # Raise a TypeError"
   ]
  },
  {
   "cell_type": "markdown",
   "id": "4c50c453",
   "metadata": {},
   "source": [
    "## Q2. Does using the += operator to concatenate strings violate Python's string immutability? Why or why not ?"
   ]
  },
  {
   "cell_type": "code",
   "execution_count": 2,
   "id": "f8d18b1b",
   "metadata": {},
   "outputs": [
    {
     "data": {
      "text/plain": [
       "'kishankalariya'"
      ]
     },
     "execution_count": 2,
     "metadata": {},
     "output_type": "execute_result"
    }
   ],
   "source": [
    "l1 = 'kishan'\n",
    "l2 = 'kalariya'\n",
    "l1 += l2\n",
    "l1"
   ]
  },
  {
   "cell_type": "markdown",
   "id": "e8ad84ca",
   "metadata": {},
   "source": [
    "    += operator is used to concatenate strings, it does not violate Python’s string immutability Property. Because doing so     we creates a new association with data and variable. E.g. l1=\"kishan\" and l1+='kalariya'. effect of this statements to     reate string kishankalariya and reassign it to variable l1, any string data is not actually modified."
   ]
  },
  {
   "cell_type": "markdown",
   "id": "9bb9b65c",
   "metadata": {},
   "source": [
    "## Q3. In Python, how many different ways are there to index a character?"
   ]
  },
  {
   "cell_type": "markdown",
   "id": "132fa4fa",
   "metadata": {},
   "source": [
    "    A Character in string can be indexed using string name followed by index number of character in square bracket.             Positive Indexing i.e. first index is 0 an so on, or Negative Indexing i.e. last letter is -1 and so on can be used to     index a character"
   ]
  },
  {
   "cell_type": "code",
   "execution_count": 3,
   "id": "4568b3b9",
   "metadata": {},
   "outputs": [
    {
     "data": {
      "text/plain": [
       "'k'"
      ]
     },
     "execution_count": 3,
     "metadata": {},
     "output_type": "execute_result"
    }
   ],
   "source": [
    "name = 'kishan kalariya'\n",
    "\n",
    "# posiive indexing\n",
    "name[0]"
   ]
  },
  {
   "cell_type": "code",
   "execution_count": 5,
   "id": "d0a2c5c3",
   "metadata": {},
   "outputs": [
    {
     "data": {
      "text/plain": [
       "'a'"
      ]
     },
     "execution_count": 5,
     "metadata": {},
     "output_type": "execute_result"
    }
   ],
   "source": [
    "# negative indexing\n",
    "name[-1]"
   ]
  },
  {
   "cell_type": "markdown",
   "id": "cec39dd3",
   "metadata": {},
   "source": [
    "## Q4. What is the relationship between indexing and slicing?"
   ]
  },
  {
   "cell_type": "markdown",
   "id": "30ff3304",
   "metadata": {},
   "source": [
    "    We can access elements of sequence datatypes by using slicing. Indexing is used to obtaining individual       element while slicing for sequence of elements."
   ]
  },
  {
   "cell_type": "code",
   "execution_count": 8,
   "id": "5d6bc44e",
   "metadata": {},
   "outputs": [
    {
     "data": {
      "text/plain": [
       "'kish'"
      ]
     },
     "execution_count": 8,
     "metadata": {},
     "output_type": "execute_result"
    }
   ],
   "source": [
    "name = 'kishan kalariya'\n",
    "\n",
    "## slicing \n",
    "name[0:4]"
   ]
  },
  {
   "cell_type": "code",
   "execution_count": 9,
   "id": "e35520c8",
   "metadata": {},
   "outputs": [
    {
     "data": {
      "text/plain": [
       "'a'"
      ]
     },
     "execution_count": 9,
     "metadata": {},
     "output_type": "execute_result"
    }
   ],
   "source": [
    "## indexing\n",
    "name[4]"
   ]
  },
  {
   "cell_type": "markdown",
   "id": "d9726527",
   "metadata": {},
   "source": [
    "## Q5. What is an indexed character's exact data type? What is the data form of a slicing-generated substring?"
   ]
  },
  {
   "cell_type": "markdown",
   "id": "1a6e5953",
   "metadata": {},
   "source": [
    "    Indexed characters and sliced substrings have datatype String."
   ]
  },
  {
   "cell_type": "code",
   "execution_count": 10,
   "id": "08cf37f8",
   "metadata": {},
   "outputs": [
    {
     "data": {
      "text/plain": [
       "str"
      ]
     },
     "execution_count": 10,
     "metadata": {},
     "output_type": "execute_result"
    }
   ],
   "source": [
    "name = 'kishan kalariya'\n",
    "\n",
    "# slicing datatype\n",
    "type(name[0:4])"
   ]
  },
  {
   "cell_type": "code",
   "execution_count": 12,
   "id": "23d93120",
   "metadata": {},
   "outputs": [
    {
     "data": {
      "text/plain": [
       "str"
      ]
     },
     "execution_count": 12,
     "metadata": {},
     "output_type": "execute_result"
    }
   ],
   "source": [
    "type(name[4])"
   ]
  },
  {
   "cell_type": "markdown",
   "id": "85c487da",
   "metadata": {},
   "source": [
    "## Q6. What is the relationship between string and character \"types\" in Python?\n",
    "    Indexed characters and sliced substrings have datatype String."
   ]
  },
  {
   "cell_type": "markdown",
   "id": "ca23f4bb",
   "metadata": {},
   "source": [
    "## Q7. Identify at least two operators & one method that allow you to combine one or more smaller strings to create a larger string ?"
   ]
  },
  {
   "cell_type": "raw",
   "id": "82757cd1",
   "metadata": {},
   "source": [
    "+, += and * allow to combine one or more smaller strings to create a larger string. <string>.join(<sep>) method joins element of iterable type like list and tuple to get a combined string."
   ]
  },
  {
   "cell_type": "code",
   "execution_count": 21,
   "id": "0d44ac6e",
   "metadata": {},
   "outputs": [
    {
     "name": "stdout",
     "output_type": "stream",
     "text": [
      "kishankalariya\n",
      "kishankalariyakishankalariya\n",
      "kishankalariya123456789\n"
     ]
    }
   ],
   "source": [
    "name = 'kishan'\n",
    "name_mm = 'kalariya'\n",
    "name_nm = '-'\n",
    "name += name_mm\n",
    "print(name)\n",
    "print(name*2)\n",
    "print(name + '123456789')\n"
   ]
  },
  {
   "cell_type": "code",
   "execution_count": 19,
   "id": "fd002ef1",
   "metadata": {},
   "outputs": [
    {
     "name": "stdout",
     "output_type": "stream",
     "text": [
      "k-i-s-h-a-n-k-a-l-a-r-i-y-a\n"
     ]
    }
   ],
   "source": [
    "print(name_nm.join(name))"
   ]
  },
  {
   "cell_type": "markdown",
   "id": "6b65e78e",
   "metadata": {},
   "source": [
    "## Q8. What is the benefit of first checking the target string with in or not in before using the index method to find a substring ?"
   ]
  },
  {
   "cell_type": "markdown",
   "id": "b346b8ce",
   "metadata": {},
   "source": [
    "    Checking the target string with in or not Operators before using the index method to find a substring just helps           confirming availability of substring and thus avoid raising of ValueError."
   ]
  },
  {
   "cell_type": "markdown",
   "id": "fd50d34f",
   "metadata": {},
   "source": [
    "    in\n",
    "    not\n",
    "    <string>.isalpha()\n",
    "    <string>.isalnum()\n",
    "    <string>.isdecimal()\n",
    "    <string>.isdigit()\n",
    "    <string>.islower()\n",
    "    <string>.isnumeric()\n",
    "    <string>.isprintable()\n",
    "    <string>.isspace()\n",
    "    <string>.istitle()"
   ]
  },
  {
   "cell_type": "code",
   "execution_count": null,
   "id": "6cbc7cf6",
   "metadata": {},
   "outputs": [],
   "source": []
  }
 ],
 "metadata": {
  "kernelspec": {
   "display_name": "Python 3 (ipykernel)",
   "language": "python",
   "name": "python3"
  },
  "language_info": {
   "codemirror_mode": {
    "name": "ipython",
    "version": 3
   },
   "file_extension": ".py",
   "mimetype": "text/x-python",
   "name": "python",
   "nbconvert_exporter": "python",
   "pygments_lexer": "ipython3",
   "version": "3.9.7"
  }
 },
 "nbformat": 4,
 "nbformat_minor": 5
}
