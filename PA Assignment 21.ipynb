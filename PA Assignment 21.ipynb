{
 "cells": [
  {
   "cell_type": "markdown",
   "id": "e299bac3",
   "metadata": {},
   "source": [
    "## Q1. What is a probability distribution, exactly? If the values are meant to be random, how can you predict them at all ?"
   ]
  },
  {
   "cell_type": "markdown",
   "id": "02fb97c9",
   "metadata": {},
   "source": [
    "    A probability distribution describes how a random variable is distributed.\n",
    "\n",
    "    It tells us which values a random variable is most likely to take on and which values are less likely. Based on the         previous data and the occurences of the random event, we can predict the outcome in terms of probabilities."
   ]
  },
  {
   "cell_type": "markdown",
   "id": "925acb2c",
   "metadata": {},
   "source": [
    "## Q2. Is there a distinction between true random numbers and pseudo-random numbers, if there is one? Why are the latter considered “good enough”?   "
   ]
  },
  {
   "cell_type": "markdown",
   "id": "c734a9cf",
   "metadata": {},
   "source": [
    "    True Random Numbers are true physical values while pseudo-random numbers are generated internally by a program . Latter     is considered good enough as they have sort of uniform distribution."
   ]
  },
  {
   "cell_type": "markdown",
   "id": "b8c41b43",
   "metadata": {},
   "source": [
    "## Q3. What are the two main factors that influence the behaviour of a \"normal\" probability distribution ?"
   ]
  },
  {
   "cell_type": "markdown",
   "id": "370b274c",
   "metadata": {},
   "source": [
    "     Normal Probability Distribution are influenced by two factors mean and the variance."
   ]
  },
  {
   "cell_type": "markdown",
   "id": "70e9762c",
   "metadata": {},
   "source": [
    "## Q4. Provide a real-life example of a normal distribution ?"
   ]
  },
  {
   "cell_type": "markdown",
   "id": "bd36da1d",
   "metadata": {},
   "source": [
    "    A Real-life example of a normal distribution are heights or blood pressure measurements"
   ]
  },
  {
   "cell_type": "markdown",
   "id": "6cca5930",
   "metadata": {},
   "source": [
    "## Q5. In the short term, how can you expect a probability distribution to behave? What do you think will happen as the number of trials grows ?"
   ]
  },
  {
   "cell_type": "markdown",
   "id": "23eaed39",
   "metadata": {},
   "source": [
    "    variance will decrease with number of trails"
   ]
  },
  {
   "cell_type": "markdown",
   "id": "024c8c70",
   "metadata": {},
   "source": [
    "## Q6. What kind of object can be shuffled by using random.shuffle ?"
   ]
  },
  {
   "cell_type": "markdown",
   "id": "3fdfabd1",
   "metadata": {},
   "source": [
    "    lists (list), strings (str) and tuples (tuple) objects can be shuffled by using random.shuffle."
   ]
  },
  {
   "cell_type": "code",
   "execution_count": 2,
   "id": "45c91341",
   "metadata": {},
   "outputs": [
    {
     "name": "stdout",
     "output_type": "stream",
     "text": [
      "['y', 'x', 'z']\n"
     ]
    }
   ],
   "source": [
    "from random import shuffle as sh \n",
    "\n",
    "l = [\"x\", \"y\", \"z\"]\n",
    "sh(l)\n",
    "\n",
    "print(l)"
   ]
  },
  {
   "cell_type": "markdown",
   "id": "131566ba",
   "metadata": {},
   "source": [
    "## Q7. Describe the math package's general categories of functions ?"
   ]
  },
  {
   "cell_type": "markdown",
   "id": "d997d3fc",
   "metadata": {},
   "source": [
    "    1. Trigonometric functions\n",
    "    2. Quadratic functions\n",
    "    3. Exponential functions\n",
    "    4. Hyperbolic functions\n",
    "    5. Periodic functions\n",
    "    6. Arithmetic functions\n",
    "    7. Logarithimic functions\n",
    "    8. Conversions to Integer"
   ]
  },
  {
   "cell_type": "markdown",
   "id": "eb4ac8b1",
   "metadata": {},
   "source": [
    "## Q8. What is the relationship between exponentiation and logarithms ?"
   ]
  },
  {
   "cell_type": "markdown",
   "id": "91cf33c5",
   "metadata": {},
   "source": [
    "     Exponentiation and logarithms are inverse of each other."
   ]
  },
  {
   "cell_type": "markdown",
   "id": "3d3bc528",
   "metadata": {},
   "source": [
    "## Q9. What are the three logarithmic functions that Python supports ?"
   ]
  },
  {
   "cell_type": "markdown",
   "id": "32fd6a17",
   "metadata": {},
   "source": [
    "    The Three Logarithmic Functions that Python supports are:\n",
    "\n",
    "    1. log2(x) - logarithmic value of x to base 2\n",
    "    2. log10(x) - logarithmic value of x to base 10\n",
    "    3. log1p(a) - This function is used to compute logarithm(1+a) ."
   ]
  },
  {
   "cell_type": "code",
   "execution_count": null,
   "id": "92d9162f",
   "metadata": {},
   "outputs": [],
   "source": []
  }
 ],
 "metadata": {
  "kernelspec": {
   "display_name": "Python 3 (ipykernel)",
   "language": "python",
   "name": "python3"
  },
  "language_info": {
   "codemirror_mode": {
    "name": "ipython",
    "version": 3
   },
   "file_extension": ".py",
   "mimetype": "text/x-python",
   "name": "python",
   "nbconvert_exporter": "python",
   "pygments_lexer": "ipython3",
   "version": "3.9.7"
  }
 },
 "nbformat": 4,
 "nbformat_minor": 5
}
